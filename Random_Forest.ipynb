{
 "cells": [
  {
   "cell_type": "code",
   "id": "initial_id",
   "metadata": {
    "collapsed": true,
    "ExecuteTime": {
     "end_time": "2024-06-09T10:30:31.437759Z",
     "start_time": "2024-06-09T10:30:31.432634Z"
    }
   },
   "source": [
    "import pandas as pd\n",
    "from sklearn.preprocessing import LabelEncoder\n",
    "from sklearn.model_selection import train_test_split\n",
    "from sklearn.preprocessing import StandardScaler\n",
    "from sklearn.ensemble import RandomForestClassifier\n",
    "from sklearn.metrics import accuracy_score"
   ],
   "outputs": [],
   "execution_count": 8
  },
  {
   "metadata": {
    "ExecuteTime": {
     "end_time": "2024-06-09T10:10:40.600179Z",
     "start_time": "2024-06-09T10:10:40.586632Z"
    }
   },
   "cell_type": "code",
   "source": [
    "dataset = pd.read_csv(\"./Datasets/Social_Network_Ads.csv\")\n",
    "\n",
    "X = dataset.iloc[:, [1,2,3]].values\n",
    "y = dataset.iloc[:, -1].values"
   ],
   "id": "ca4025f741c05b2b",
   "outputs": [],
   "execution_count": 2
  },
  {
   "metadata": {
    "ExecuteTime": {
     "end_time": "2024-06-09T10:10:50.996158Z",
     "start_time": "2024-06-09T10:10:50.993427Z"
    }
   },
   "cell_type": "code",
   "source": "print(len(X))",
   "id": "a815c7fb30d255c2",
   "outputs": [
    {
     "name": "stdout",
     "output_type": "stream",
     "text": [
      "400\n"
     ]
    }
   ],
   "execution_count": 3
  },
  {
   "metadata": {
    "ExecuteTime": {
     "end_time": "2024-06-09T10:11:54.491883Z",
     "start_time": "2024-06-09T10:11:54.488153Z"
    }
   },
   "cell_type": "code",
   "source": [
    "encoder = LabelEncoder()\n",
    "X[:, 0] = encoder.fit_transform(X[:, 0])"
   ],
   "id": "4fdeb50e9ba491d0",
   "outputs": [],
   "execution_count": 4
  },
  {
   "metadata": {
    "ExecuteTime": {
     "end_time": "2024-06-09T10:14:11.253771Z",
     "start_time": "2024-06-09T10:14:11.249911Z"
    }
   },
   "cell_type": "code",
   "source": "X_train, X_test, y_train, y_test = train_test_split(X, y, test_size=0.25, random_state=0)",
   "id": "f5eb6bb83eedea41",
   "outputs": [],
   "execution_count": 5
  },
  {
   "metadata": {
    "ExecuteTime": {
     "end_time": "2024-06-09T10:15:51.401147Z",
     "start_time": "2024-06-09T10:15:51.396632Z"
    }
   },
   "cell_type": "code",
   "source": [
    "sc = StandardScaler()\n",
    "X_train = sc.fit_transform(X_train)\n",
    "X_test = sc.transform(X_test)"
   ],
   "id": "f54d9fdacef44957",
   "outputs": [],
   "execution_count": 6
  },
  {
   "metadata": {
    "ExecuteTime": {
     "end_time": "2024-06-09T10:31:49.551228Z",
     "start_time": "2024-06-09T10:31:47.075502Z"
    }
   },
   "cell_type": "code",
   "source": [
    "n_value = int(input(\"Enter the value of estimators: \"))\n",
    "rfc = RandomForestClassifier(random_state=0, n_estimators=n_value)\n",
    "rfc.fit(X_train, y_train)\n",
    "\n",
    "y_pred = rfc.predict(X_test)"
   ],
   "id": "873b3f367b1a72fa",
   "outputs": [],
   "execution_count": 10
  },
  {
   "metadata": {
    "ExecuteTime": {
     "end_time": "2024-06-09T10:32:38.767693Z",
     "start_time": "2024-06-09T10:32:38.763868Z"
    }
   },
   "cell_type": "code",
   "source": "print(\"Model Accuracy with {} decision trees: {}\".format(n_value,accuracy_score(y_test, y_pred)))",
   "id": "b5b908902af8e157",
   "outputs": [
    {
     "name": "stdout",
     "output_type": "stream",
     "text": [
      "Model Accuracy with 10 decision trees: 0.91\n"
     ]
    }
   ],
   "execution_count": 14
  },
  {
   "metadata": {},
   "cell_type": "code",
   "outputs": [],
   "execution_count": null,
   "source": "",
   "id": "20b22906272a9825"
  }
 ],
 "metadata": {
  "kernelspec": {
   "display_name": "Python 3",
   "language": "python",
   "name": "python3"
  },
  "language_info": {
   "codemirror_mode": {
    "name": "ipython",
    "version": 2
   },
   "file_extension": ".py",
   "mimetype": "text/x-python",
   "name": "python",
   "nbconvert_exporter": "python",
   "pygments_lexer": "ipython2",
   "version": "2.7.6"
  }
 },
 "nbformat": 4,
 "nbformat_minor": 5
}
